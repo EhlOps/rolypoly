{
 "cells": [
  {
   "cell_type": "markdown",
   "id": "010664eb-d697-4e3f-a402-a484d4c38865",
   "metadata": {},
   "source": [
    "# Scraping GitHub python files\n",
    "\n",
    "This notebook will scrape GitHub for python files with any of the keywords specified.\n",
    "\n",
    "To start, run the cell below:"
   ]
  },
  {
   "cell_type": "code",
   "execution_count": null,
   "id": "c57927e3-f630-4f75-9c10-9f254bfc5124",
   "metadata": {},
   "outputs": [],
   "source": [
    "%pip install requests\n",
    "%pip install python-dotenv"
   ]
  },
  {
   "cell_type": "markdown",
   "id": "967d7642-19fe-48b8-bf39-3817a67fbeb3",
   "metadata": {},
   "source": [
    "## Specify search fields below:"
   ]
  },
  {
   "cell_type": "code",
   "execution_count": 47,
   "id": "09a3015a-490f-4f2e-bdee-eb98288a9d8f",
   "metadata": {},
   "outputs": [],
   "source": [
    "search_items = [\"scrape\", \"scraper\", \"request\"]"
   ]
  },
  {
   "cell_type": "markdown",
   "id": "ba764256-66af-4dc1-b061-714ebf0ff28f",
   "metadata": {},
   "source": [
    "Run the following cell to ensure the function is callable:"
   ]
  },
  {
   "cell_type": "code",
   "execution_count": 74,
   "id": "bd0e6955-0a65-4fc6-93ec-0946196ddd59",
   "metadata": {},
   "outputs": [],
   "source": [
    "from dotenv import load_dotenv\n",
    "import requests\n",
    "import base64\n",
    "import json\n",
    "import time\n",
    "\n",
    "load_dotenv()\n",
    "\n",
    "os.getenv(\"GITHUB_ACCESS_TOKEN\")\n",
    "\n",
    "with requests.Session() as s:\n",
    "    s.headers = {\n",
    "        \"Accept\": \"application/vnd.github+json\", \n",
    "        \"Authorization\": \"Bearer \" + os.getenv(\"GITHUB_ACCESS_TOKEN\"),\n",
    "        \"X-GitHub-Api-Version\": \"2022-11-28\",\n",
    "    }\n",
    "\n",
    "    times = []\n",
    "    \n",
    "    def search(link, filename=\"out.txt\"):\n",
    "        print(f\"Searching: {link}\")\n",
    "        res = s.get(link)\n",
    "        next_link = res.headers.get(\"link\")\n",
    "        if res.json().get('items') is not None:\n",
    "            for item in res.json().get('items'):\n",
    "                if item.get('url') is not None:\n",
    "                    res = s.get(item.get('url'))\n",
    "                    data = res.json()\n",
    "                    content = data.get(\"content\")\n",
    "                    if content is not None:\n",
    "                        content = content.split('\\n')\n",
    "                        file_data = \"\"\n",
    "                        for line in content:\n",
    "                            line = base64.b64decode(line).decode(\"utf-8\", \"ignore\")\n",
    "                            idx = line.find(\"#\")\n",
    "                            file_data += line[0 : idx]\n",
    "                        file_data += \"\\n---\\nEND-OF-FILE\\n---\\n\\n\"\n",
    "                        with open(filename, \"a\") as f:\n",
    "                            f.write(file_data)\n",
    "        times.append(time.time())\n",
    "        if len(times) >= 9:\n",
    "            if times[-1] - times[-9] <= 60:\n",
    "                print(\"Waiting patiently for GitHub to delete its rate limit...\")\n",
    "                time.sleep(int(times[-1] - times[-9]) + 1)\n",
    "        if next_link is not None:\n",
    "            i_s = next_link.find('rel=\"prev\", <')\n",
    "            i_e = next_link.find('>; rel=\"next\"')\n",
    "            if i_e != -1:\n",
    "                if i_s != -1:\n",
    "                    next_link = next_link[i_s + len('rel=\"prev\", <') : i_e]\n",
    "                else:\n",
    "                    next_link = next_link[1 : i_e]\n",
    "                search(next_link, filename)"
   ]
  },
  {
   "cell_type": "markdown",
   "id": "f186737b-363d-4c29-8580-fed588853385",
   "metadata": {},
   "source": [
    "To run the program, run this final cell:"
   ]
  },
  {
   "cell_type": "code",
   "execution_count": null,
   "id": "67b1b89a-7dbe-4c71-8a14-da547b95f976",
   "metadata": {},
   "outputs": [],
   "source": [
    "times = []\n",
    "for item in search_items:\n",
    "    filename = str(item) + \".txt\"\n",
    "    with open(filename, \"w\") as f:\n",
    "        f.write(\"\")\n",
    "    search(\"https://api.github.com/search/code?q=\" + str(item).replace(\" \", \"\") + \"+language:python\", filename=filename)"
   ]
  }
 ],
 "metadata": {
  "kernelspec": {
   "display_name": "Python 3 (ipykernel)",
   "language": "python",
   "name": "python3"
  },
  "language_info": {
   "codemirror_mode": {
    "name": "ipython",
    "version": 3
   },
   "file_extension": ".py",
   "mimetype": "text/x-python",
   "name": "python",
   "nbconvert_exporter": "python",
   "pygments_lexer": "ipython3",
   "version": "3.11.2"
  }
 },
 "nbformat": 4,
 "nbformat_minor": 5
}
